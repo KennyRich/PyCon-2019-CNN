{
 "cells": [
  {
   "cell_type": "markdown",
   "metadata": {},
   "source": [
    "# Understanding Convolutional Neural Networks for Image Classification"
   ]
  },
  {
   "cell_type": "markdown",
   "metadata": {},
   "source": [
    "By Ogunyale Richard Kehinde delivered at PyCon Nigeria Conference"
   ]
  },
  {
   "cell_type": "markdown",
   "metadata": {},
   "source": [
    "<img src=\"Convolutional Neural Networks.png\">"
   ]
  },
  {
   "cell_type": "markdown",
   "metadata": {},
   "source": [
    "## Table of Content\n",
    "- [Introduction](#introduction)\n",
    "- [How are images represented](#how_are_images_represented)\n",
    "- [Importing Necessary Libaries](#importing_necessary_libraries)\n",
    "- [Data Preprocessing](#data_preprocessing)\n",
    "- [Architecture of Convolutional Neural Network](#architecture_of_convolutional_neural_network)\n",
    "    - Maxpooling\n",
    "    - Stride\n",
    "    - Convolution\n",
    "    - Filter\n",
    "    - Flattening\n",
    "- [Results](#results)"
   ]
  },
  {
   "cell_type": "markdown",
   "metadata": {},
   "source": [
    "<a id=\"introduction\"> </a>\n",
    "### Introduction"
   ]
  },
  {
   "cell_type": "markdown",
   "metadata": {},
   "source": [
    "The first work on modern convolutional neural networks (CNNs) occurred in the 1990s, inspired by the neocognitron. Yann LeCun et al., in their paper [ “Gradient-Based Learning Applied to Document Recognition\"](http://yann.lecun.com/exdb/publis/pdf/lecun-01a.pdf) demonstrated that a CNN model which aggregates simpler features into progressively more complicated features can be successfully used for handwritten character recognition.\n",
    "\n",
    "In the course of this tutorial we will be using the following libraries:\n",
    "- Keras a deep learning framework which is built on tensorflow \n",
    "- Numpy a library that is used as an efficient multi-dimensional container of generic data\n",
    "- tqdm a library that shows the progress of any iterable\n",
    "- pandas is a high level data manipulation tool\n",
    "- sci-kit learn is a machine learning tool used for data manipulation and analysis\n",
    "- Matplotlib is a Python 2D plotting library which produces publication quality figures in a variety of hardcopy formats and interactive environments across platforms\n",
    "- Seaborn is a Python data visualization library based on matplotlib. It provides a high-level interface for drawing attractive and informative statistical graphics."
   ]
  },
  {
   "cell_type": "markdown",
   "metadata": {},
   "source": [
    "<a id=\"how_are_images_represented\"> </a>\n",
    "### How are Images represented"
   ]
  },
  {
   "cell_type": "markdown",
   "metadata": {},
   "source": [
    "It is important to know that images are represented in pixels. For a black and white image, those pixels are interpreted as a 2D array (for example, 2x2 pixels). Every pixel has a value between 0 and 255. (Zero is completely black and 255 is completely white. The greyscale exists between those numbers.) Based on that information, the computer can begin to work on the data.\n",
    "For a color image, this is a 3D array with a blue layer, a green layer, and a red layer. Each one of those colors has its own value between 0 and 255. The color can be found by combining the values in each of the three layers.\n",
    "\n",
    "<img src=\"pixel.gif\" />"
   ]
  },
  {
   "cell_type": "markdown",
   "metadata": {},
   "source": [
    "<a id=\"importing_necessary_libraries\"> </a>\n",
    "### Importing Necessary Libraries"
   ]
  },
  {
   "cell_type": "code",
   "execution_count": 1,
   "metadata": {},
   "outputs": [
    {
     "name": "stderr",
     "output_type": "stream",
     "text": [
      "Using TensorFlow backend.\n"
     ]
    }
   ],
   "source": [
    "from keras.models import Sequential\n",
    "from keras.layers import Dense, Dropout, Flatten, Activation, BatchNormalization\n",
    "from keras.layers import Conv2D, MaxPooling2D\n",
    "from keras.utils import to_categorical\n",
    "from keras.preprocessing import image\n",
    "from keras.models import Model\n",
    "from keras.layers.merge import concatenate\n",
    "from keras import optimizers\n",
    "import numpy as np\n",
    "import pandas as pd\n",
    "from sklearn.model_selection import train_test_split\n",
    "from tqdm import tqdm\n",
    "import matplotlib.pyplot as plt"
   ]
  },
  {
   "cell_type": "markdown",
   "metadata": {},
   "source": [
    "We imported some modules from the Keras library and we shall be explaining them as we use them in the course of this notebook."
   ]
  },
  {
   "cell_type": "markdown",
   "metadata": {},
   "source": [
    "<a id=\"data_preprocessing\"> </a>\n",
    "### Data Preprocessing"
   ]
  },
  {
   "cell_type": "code",
   "execution_count": 2,
   "metadata": {},
   "outputs": [
    {
     "data": {
      "text/html": [
       "<div>\n",
       "<style scoped>\n",
       "    .dataframe tbody tr th:only-of-type {\n",
       "        vertical-align: middle;\n",
       "    }\n",
       "\n",
       "    .dataframe tbody tr th {\n",
       "        vertical-align: top;\n",
       "    }\n",
       "\n",
       "    .dataframe thead th {\n",
       "        text-align: right;\n",
       "    }\n",
       "</style>\n",
       "<table border=\"1\" class=\"dataframe\">\n",
       "  <thead>\n",
       "    <tr style=\"text-align: right;\">\n",
       "      <th></th>\n",
       "      <th>dishes_zones</th>\n",
       "      <th>name_of_dish</th>\n",
       "      <th>file</th>\n",
       "    </tr>\n",
       "  </thead>\n",
       "  <tbody>\n",
       "    <tr>\n",
       "      <th>0</th>\n",
       "      <td>Yoruba</td>\n",
       "      <td>amala</td>\n",
       "      <td>0_0_0001.jpeg</td>\n",
       "    </tr>\n",
       "    <tr>\n",
       "      <th>1</th>\n",
       "      <td>Yoruba</td>\n",
       "      <td>amala</td>\n",
       "      <td>0_0_0002.jpeg</td>\n",
       "    </tr>\n",
       "    <tr>\n",
       "      <th>2</th>\n",
       "      <td>Yoruba</td>\n",
       "      <td>amala</td>\n",
       "      <td>0_0_0003.jpeg</td>\n",
       "    </tr>\n",
       "    <tr>\n",
       "      <th>3</th>\n",
       "      <td>Yoruba</td>\n",
       "      <td>amala</td>\n",
       "      <td>0_0_0004.jpeg</td>\n",
       "    </tr>\n",
       "    <tr>\n",
       "      <th>4</th>\n",
       "      <td>Yoruba</td>\n",
       "      <td>amala</td>\n",
       "      <td>0_0_0005.jpeg</td>\n",
       "    </tr>\n",
       "  </tbody>\n",
       "</table>\n",
       "</div>"
      ],
      "text/plain": [
       "  dishes_zones name_of_dish           file\n",
       "0       Yoruba        amala  0_0_0001.jpeg\n",
       "1       Yoruba        amala  0_0_0002.jpeg\n",
       "2       Yoruba        amala  0_0_0003.jpeg\n",
       "3       Yoruba        amala  0_0_0004.jpeg\n",
       "4       Yoruba        amala  0_0_0005.jpeg"
      ]
     },
     "execution_count": 2,
     "metadata": {},
     "output_type": "execute_result"
    }
   ],
   "source": [
    "train = pd.read_csv('train.csv')\n",
    "train.head(5)"
   ]
  },
  {
   "cell_type": "markdown",
   "metadata": {},
   "source": [
    "The code above reads the csv file where name of dish and the files resides. And the code below loops through the folder where the images resides and gets the images with the name of the files."
   ]
  },
  {
   "cell_type": "code",
   "execution_count": 3,
   "metadata": {},
   "outputs": [
    {
     "name": "stderr",
     "output_type": "stream",
     "text": [
      "100%|████████████████████████████████████████████████████████████████████████████████| 338/338 [00:18<00:00, 17.87it/s]\n"
     ]
    }
   ],
   "source": [
    "train_image=[]\n",
    "for i in tqdm (range(train.shape[0])):\n",
    "    \n",
    "    img= image.load_img('Yoruba/'+train['file'][i], target_size=(170,140), grayscale=False)\n",
    "    img=image.img_to_array(img)\n",
    "    img=img/255\n",
    "    train_image.append(img)\n",
    "X=np.array(train_image)"
   ]
  },
  {
   "cell_type": "code",
   "execution_count": 5,
   "metadata": {},
   "outputs": [],
   "source": [
    "dataset=[train]\n",
    "dish={'iyan':0, 'efo':1, 'amala':2, 'eba':3, 'ewedu':4, 'fufu':5}\n",
    "for data in dataset:\n",
    "    train['dish']=train['name_of_dish'].replace(dish)"
   ]
  },
  {
   "cell_type": "markdown",
   "metadata": {},
   "source": [
    "The above code maps the string of dishes to a unique integer, this is done so that it can ba passed into the `to_categorical` module in keras to change it to a categorical feature. "
   ]
  },
  {
   "cell_type": "code",
   "execution_count": 6,
   "metadata": {},
   "outputs": [],
   "source": [
    "labelNames=['iyan', 'efo', 'amala', 'eba', 'ewedu', 'fufu']\n",
    "y=to_categorical(train['dish'])\n",
    "X_train, X_test, y_train, y_test= train_test_split(X,y, random_state=42, test_size=0.2)"
   ]
  },
  {
   "cell_type": "markdown",
   "metadata": {},
   "source": [
    "In the above code, we use the `to_categorical` module in keras to convert each of the strings to categorical features. \n",
    "\n",
    "Also, the data was split into 80% train set and 20% test set. "
   ]
  },
  {
   "cell_type": "code",
   "execution_count": 7,
   "metadata": {},
   "outputs": [
    {
     "data": {
      "text/plain": [
       "(270, 170, 140, 3)"
      ]
     },
     "execution_count": 7,
     "metadata": {},
     "output_type": "execute_result"
    }
   ],
   "source": [
    "X_train.shape"
   ]
  },
  {
   "cell_type": "markdown",
   "metadata": {},
   "source": [
    "<a id=\"architecture_of_convolutional_neural_network\"> </a>\n",
    "## Building the Neural Network Architecture "
   ]
  },
  {
   "cell_type": "markdown",
   "metadata": {},
   "source": [
    "### Max Pooling"
   ]
  },
  {
   "cell_type": "markdown",
   "metadata": {},
   "source": [
    "Pooling layers provide an approach to down sampling feature maps by summarizing the presence of features in patches of the feature map.\n",
    "\n",
    "Max pooling is a sample-based discretization process. The objective is to down-sample an input representation (image, hidden-layer output matrix, etc.), reducing its dimensionality and allowing for assumptions to be made about features contained in the sub-regions binned. \n",
    "\n",
    "Pooling layer is needed in the CNN architecture so as to progressively reduce the spatial size of the representation to reduce the amount of parameters and computation network "
   ]
  },
  {
   "cell_type": "markdown",
   "metadata": {},
   "source": [
    "<img src='max-pooling.png'>"
   ]
  },
  {
   "cell_type": "markdown",
   "metadata": {},
   "source": [
    "<img src='keras_conv2d_padding.gif'>"
   ]
  },
  {
   "cell_type": "markdown",
   "metadata": {},
   "source": [
    "`NOTE:` The image above is not performing a max-pooling operation but just shows how pooling layer operates"
   ]
  },
  {
   "cell_type": "markdown",
   "metadata": {},
   "source": [
    "### Stride"
   ]
  },
  {
   "cell_type": "markdown",
   "metadata": {},
   "source": [
    "Stride is the number of pixels shifts over the input matrix. When the stride is 1 then we move the filters to 1 pixel at a time. When the stride is 2 then we move the filters to 2 pixels at a time and so on. The below figure shows convolution would work with a stride of 2.\n",
    "<img src=\"Strides.png\" />"
   ]
  },
  {
   "cell_type": "markdown",
   "metadata": {},
   "source": [
    "### Convolution"
   ]
  },
  {
   "cell_type": "markdown",
   "metadata": {},
   "source": [
    "The primary purpose of Convolution in case of a ConvNet is to extract features from the input image. Convolution preserves the spatial relationship between pixels by learning image features using small squares of input data.\n",
    "\n",
    "<img src=\"convolution.gif\" />\n",
    "\n",
    "Take a moment to understand how the computation above is being done. We slide the orange matrix over our original image (green) by 1 pixel (also called ‘stride’) and for every position, we compute element wise multiplication (between the two matrices) and add the multiplication outputs to get the final integer which forms a single element of the output matrix (pink). Note that the 3×3 matrix “sees” only a part of the input image in each stride.\n",
    "\n",
    "To calculate the convolution layer output size we have:\n",
    "\\begin{equation*}\n",
    "size_{output} = size_{input} - (size_{filter} - 1)\n",
    "\\end{equation*}\n",
    "\n",
    "To read more about the convolutional layer check out this [link](https://ujjwalkarn.me/2016/08/11/intuitive-explanation-convnets/)"
   ]
  },
  {
   "cell_type": "markdown",
   "metadata": {},
   "source": [
    "### Filter"
   ]
  },
  {
   "cell_type": "markdown",
   "metadata": {},
   "source": [
    "Filter in the convolution layer is often also called kernel or feature detector. The size of the kernel is a very important factor determining the convolution layer output.  Filters act as feature detectors from the original image input. \n",
    "\n",
    "From the example in the convolutional layer, the 3 x 3 matrix is the filter. The final matrix formed by sliding the filter and computing the dot product is called feature map or convolved feature\n",
    "\n",
    "It is worthy to note that different filter will produce different feature map for the same input image. "
   ]
  },
  {
   "cell_type": "markdown",
   "metadata": {},
   "source": [
    "### Flattening"
   ]
  },
  {
   "cell_type": "markdown",
   "metadata": {},
   "source": [
    "The flattening layer is the layer found in-between the convolutional layer and the fully connected layer i.e the dense layer. The flattening layer transforms a two-dimensional matrix of features into a vector that can be fed into a fully connected neural network classifier.\n",
    "\n",
    "<img src=\"flattening.png\"/>"
   ]
  },
  {
   "cell_type": "markdown",
   "metadata": {},
   "source": [
    "### Activation Function"
   ]
  },
  {
   "cell_type": "markdown",
   "metadata": {},
   "source": [
    "There are three classes of Activation function and they are: binary step, linear and non-linear activation functions. \n",
    "* Binary Step: A binary step function is a threshold-based activation function. If the input value is above or below a certain threshold, the neuron is activated and sends exactly the same signal to the next layer.\n",
    "* Sigmoid: This is a type of non- linear activation function and it is represented with the equation below:\n",
    "\n",
    "\\begin{equation*}\n",
    "f(x)   = \\frac{1}{1+e^{x}}\n",
    "\\end{equation*}\n",
    "\n",
    "The sigmoid activation function output values bound between 0 and 1, normalizing the output of each neuron.\n",
    "\n",
    "* Tanh or Hyperbolic tangent function: This is also a type of non-linear activation function, it can be represented with thw equation below:\n",
    "\n",
    "\\begin{equation*}\n",
    "f(x) = \\frac{e^x - e^{-x}}{e^x + e^{-x}}\n",
    "\\end{equation*}\n",
    "\n",
    "Tanh is zero- centered making it easier to model inputs that have strongly negative, neutral, and strongly positive values\n",
    "\n",
    "* Rectified Linear Unit (ReLU): This is a type of non-linear activation function, it is represented with the mathematical equation below:\n",
    "\n",
    "\\begin{equation*}\n",
    "f(x) = max(0, z)\n",
    "\\end{equation*}\n",
    "One of the interesting things about ReLU is that it is computationally efficient and it converges faster.\n",
    "\n",
    "To understand further on Activation Functions you can check out this [link](https://missinglink.ai/guides/neural-network-concepts/7-types-neural-network-activation-functions-right/)"
   ]
  },
  {
   "cell_type": "markdown",
   "metadata": {},
   "source": [
    "<img src='activation_functions.png'>"
   ]
  },
  {
   "cell_type": "markdown",
   "metadata": {},
   "source": [
    "In the figure below we can see the Rectified Linear Unit Acctivation function in action:\n",
    "<img src=\"Relu.png\" />"
   ]
  },
  {
   "cell_type": "markdown",
   "metadata": {},
   "source": [
    "### Structure of the Model"
   ]
  },
  {
   "cell_type": "code",
   "execution_count": 20,
   "metadata": {},
   "outputs": [],
   "source": [
    "model = Sequential()\n",
    "model.add(Conv2D(32, kernel_size=(3, 3),activation='relu',input_shape=(170,140,3)))\n",
    "model.add(MaxPooling2D(pool_size=(2, 2)))\n",
    "model.add(Conv2D(64, (3, 3), activation='relu'))\n",
    "model.add(MaxPooling2D(pool_size=(2, 2)))\n",
    "model.add(Dropout(0.25))\n",
    "model.add(Flatten())\n",
    "model.add(Dense(128, activation='relu'))\n",
    "model.add(Dropout(0.25))\n",
    "model.add(Dense(6, activation='softmax'))"
   ]
  },
  {
   "cell_type": "markdown",
   "metadata": {},
   "source": [
    "To understand how to implement these layers in Keras, you can checkout Keras documentation [here](https://keras.io/layers)"
   ]
  },
  {
   "cell_type": "code",
   "execution_count": 21,
   "metadata": {},
   "outputs": [
    {
     "name": "stdout",
     "output_type": "stream",
     "text": [
      "_________________________________________________________________\n",
      "Layer (type)                 Output Shape              Param #   \n",
      "=================================================================\n",
      "conv2d_3 (Conv2D)            (None, 168, 138, 32)      896       \n",
      "_________________________________________________________________\n",
      "max_pooling2d_3 (MaxPooling2 (None, 84, 69, 32)        0         \n",
      "_________________________________________________________________\n",
      "conv2d_4 (Conv2D)            (None, 82, 67, 64)        18496     \n",
      "_________________________________________________________________\n",
      "max_pooling2d_4 (MaxPooling2 (None, 41, 33, 64)        0         \n",
      "_________________________________________________________________\n",
      "dropout_3 (Dropout)          (None, 41, 33, 64)        0         \n",
      "_________________________________________________________________\n",
      "flatten_2 (Flatten)          (None, 86592)             0         \n",
      "_________________________________________________________________\n",
      "dense_2 (Dense)              (None, 128)               11083904  \n",
      "_________________________________________________________________\n",
      "dropout_4 (Dropout)          (None, 128)               0         \n",
      "_________________________________________________________________\n",
      "dense_3 (Dense)              (None, 6)                 774       \n",
      "=================================================================\n",
      "Total params: 11,104,070\n",
      "Trainable params: 11,104,070\n",
      "Non-trainable params: 0\n",
      "_________________________________________________________________\n"
     ]
    }
   ],
   "source": [
    "from keras.utils import plot_model\n",
    "import pydot\n",
    "# build the model in functional API\n",
    "model = model\n",
    "# verify the model using graph\n",
    "plot_model(model, to_file='cnn-network-architecture.png', show_shapes=True)\n",
    "# verify the model using layer text description\n",
    "model.summary()"
   ]
  },
  {
   "cell_type": "markdown",
   "metadata": {},
   "source": [
    "<img src='cnn-network-architecture.png'>"
   ]
  },
  {
   "cell_type": "code",
   "execution_count": 22,
   "metadata": {},
   "outputs": [],
   "source": [
    "model.compile(loss='categorical_crossentropy',optimizer='Adam',metrics=['accuracy'])"
   ]
  },
  {
   "cell_type": "code",
   "execution_count": 23,
   "metadata": {},
   "outputs": [
    {
     "name": "stdout",
     "output_type": "stream",
     "text": [
      "Train on 270 samples, validate on 68 samples\n",
      "Epoch 1/10\n",
      "270/270 [==============================] - 45s 166ms/step - loss: 4.4492 - acc: 0.2963 - val_loss: 1.4533 - val_acc: 0.4706\n",
      "Epoch 2/10\n",
      "270/270 [==============================] - 37s 138ms/step - loss: 1.2842 - acc: 0.5815 - val_loss: 1.0643 - val_acc: 0.6176\n",
      "Epoch 3/10\n",
      "270/270 [==============================] - 36s 134ms/step - loss: 0.7907 - acc: 0.7556 - val_loss: 0.5790 - val_acc: 0.8235\n",
      "Epoch 4/10\n",
      "270/270 [==============================] - 38s 139ms/step - loss: 0.5999 - acc: 0.7963 - val_loss: 0.5971 - val_acc: 0.8529\n",
      "Epoch 5/10\n",
      "270/270 [==============================] - 39s 145ms/step - loss: 0.4148 - acc: 0.8630 - val_loss: 0.7341 - val_acc: 0.8235\n",
      "Epoch 6/10\n",
      "270/270 [==============================] - 37s 137ms/step - loss: 0.3941 - acc: 0.8704 - val_loss: 0.7055 - val_acc: 0.8529\n",
      "Epoch 7/10\n",
      "270/270 [==============================] - 37s 138ms/step - loss: 0.3419 - acc: 0.8926 - val_loss: 0.5605 - val_acc: 0.8382\n",
      "Epoch 8/10\n",
      "270/270 [==============================] - 40s 148ms/step - loss: 0.3785 - acc: 0.8889 - val_loss: 0.6304 - val_acc: 0.8235\n",
      "Epoch 9/10\n",
      "270/270 [==============================] - 39s 143ms/step - loss: 0.2244 - acc: 0.9148 - val_loss: 0.4533 - val_acc: 0.8676\n",
      "Epoch 10/10\n",
      "270/270 [==============================] - 37s 135ms/step - loss: 0.1994 - acc: 0.9222 - val_loss: 0.5741 - val_acc: 0.8676\n"
     ]
    }
   ],
   "source": [
    "H = model.fit(X_train, y_train, validation_data=(X_test, y_test), epochs=10)"
   ]
  },
  {
   "cell_type": "code",
   "execution_count": 24,
   "metadata": {},
   "outputs": [
    {
     "name": "stdout",
     "output_type": "stream",
     "text": [
      "dict_keys(['val_loss', 'val_acc', 'loss', 'acc'])\n"
     ]
    }
   ],
   "source": [
    "print(H.history.keys())"
   ]
  },
  {
   "cell_type": "markdown",
   "metadata": {},
   "source": [
    "<a id=results ></a>\n",
    "## Results"
   ]
  },
  {
   "cell_type": "code",
   "execution_count": 25,
   "metadata": {},
   "outputs": [
    {
     "data": {
      "image/png": "[encoded data removed]",
      "text/plain": [
       "<Figure size 432x288 with 1 Axes>"
      ]
     },
     "metadata": {
      "needs_background": "light"
     },
     "output_type": "display_data"
    }
   ],
   "source": [
    "# summarize history for accuracy\n",
    "plt.plot(H.history['acc'])\n",
    "plt.plot(H.history['val_acc'])\n",
    "plt.title('model accuracy')\n",
    "plt.ylabel('accuracy')\n",
    "plt.xlabel('epoch')\n",
    "plt.legend(['train','test'], loc='upper left')\n",
    "plt.show()"
   ]
  },
  {
   "cell_type": "code",
   "execution_count": 26,
   "metadata": {},
   "outputs": [
    {
     "data": {
      "image/png": "[encoded data removed]",
      "text/plain": [
       "<Figure size 432x288 with 1 Axes>"
      ]
     },
     "metadata": {
      "needs_background": "light"
     },
     "output_type": "display_data"
    }
   ],
   "source": [
    "# summarize history for loss\n",
    "plt.plot(H.history['loss'])\n",
    "plt.plot(H.history['val_loss'])\n",
    "plt.title('model loss')\n",
    "plt.ylabel('loss')\n",
    "plt.xlabel('epoch')\n",
    "plt.legend(['train','test'], loc='upper left')\n",
    "plt.show()"
   ]
  },
  {
   "cell_type": "code",
   "execution_count": 27,
   "metadata": {},
   "outputs": [],
   "source": [
    "# make predictions on the test set\n",
    "preds = model.predict(X_test)"
   ]
  },
  {
   "cell_type": "code",
   "execution_count": 28,
   "metadata": {},
   "outputs": [
    {
     "name": "stdout",
     "output_type": "stream",
     "text": [
      "0.8676470588235294\n"
     ]
    }
   ],
   "source": [
    "from sklearn.metrics import accuracy_score\n",
    "print(accuracy_score(y_test.argmax(axis=1), preds.argmax(axis=1)))"
   ]
  },
  {
   "cell_type": "code",
   "execution_count": 29,
   "metadata": {},
   "outputs": [
    {
     "name": "stdout",
     "output_type": "stream",
     "text": [
      "              precision    recall  f1-score   support\n",
      "\n",
      "        iyan       0.83      1.00      0.91        15\n",
      "         efo       0.85      1.00      0.92        17\n",
      "       amala       0.91      0.77      0.83        13\n",
      "         eba       0.80      0.80      0.80        10\n",
      "       ewedu       1.00      0.80      0.89        10\n",
      "        fufu       1.00      0.33      0.50         3\n",
      "\n",
      "   micro avg       0.87      0.87      0.87        68\n",
      "   macro avg       0.90      0.78      0.81        68\n",
      "weighted avg       0.88      0.87      0.86        68\n",
      "\n"
     ]
    }
   ],
   "source": [
    "from sklearn.metrics import classification_report\n",
    "print(classification_report(y_test.argmax(axis=1), preds.argmax(axis=1), target_names=labelNames))"
   ]
  },
  {
   "cell_type": "code",
   "execution_count": 30,
   "metadata": {},
   "outputs": [],
   "source": [
    "def plot_confusion_matrix(y_true, y_pred, classes,\n",
    "                          normalize=False,\n",
    "                          title=None,\n",
    "                          cmap=plt.cm.Blues):\n",
    "    from sklearn.metrics import confusion_matrix\n",
    "    from sklearn.utils.multiclass import unique_labels\n",
    "    \"\"\"\n",
    "    This function prints and plots the confusion matrix.\n",
    "    Normalization can be applied by setting `normalize=True`.\n",
    "    \"\"\"\n",
    "    if not title:\n",
    "        if normalize:\n",
    "            title = 'Normalized confusion matrix'\n",
    "        else:\n",
    "            title = 'Confusion matrix, without normalization'\n",
    "\n",
    "    # Compute confusion matrix\n",
    "    cm = confusion_matrix(y_true, y_pred)\n",
    "    # Only use the labels that appear in the data\n",
    "    classes = classes[unique_labels(y_true, y_pred)]\n",
    "    if normalize:\n",
    "        cm = cm.astype('float') / cm.sum(axis=1)[:, np.newaxis]\n",
    "        print(\"Normalized confusion matrix\")\n",
    "    else:\n",
    "        print('Confusion matrix, without normalization')\n",
    "\n",
    "    print(cm)\n",
    "\n",
    "    fig, ax = plt.subplots()\n",
    "    im = ax.imshow(cm, interpolation='nearest', cmap=cmap)\n",
    "    ax.figure.colorbar(im, ax=ax)\n",
    "    # We want to show all ticks...\n",
    "    ax.set(xticks=np.arange(cm.shape[1]),\n",
    "           yticks=np.arange(cm.shape[0]),\n",
    "           # ... and label them with the respective list entries\n",
    "           xticklabels=classes, yticklabels=classes,\n",
    "           title=title,\n",
    "           ylabel='True label',\n",
    "           xlabel='Predicted label')\n",
    "\n",
    "    # Rotate the tick labels and set their alignment.\n",
    "    plt.setp(ax.get_xticklabels(), rotation=45, ha=\"right\",\n",
    "             rotation_mode=\"anchor\")\n",
    "\n",
    "    # Loop over data dimensions and create text annotations.\n",
    "    fmt = '.2f' if normalize else 'd'\n",
    "    thresh = cm.max() / 2.\n",
    "    for i in range(cm.shape[0]):\n",
    "        for j in range(cm.shape[1]):\n",
    "            ax.text(j, i, format(cm[i, j], fmt),\n",
    "                    ha=\"center\", va=\"center\",\n",
    "                    color=\"white\" if cm[i, j] > thresh else \"black\")\n",
    "    fig.tight_layout()\n",
    "    return ax"
   ]
  },
  {
   "cell_type": "code",
   "execution_count": 31,
   "metadata": {},
   "outputs": [
    {
     "name": "stdout",
     "output_type": "stream",
     "text": [
      "Confusion matrix, without normalization\n",
      "[[15  0  0  0  0  0]\n",
      " [ 0 17  0  0  0  0]\n",
      " [ 1  2 10  0  0  0]\n",
      " [ 2  0  0  8  0  0]\n",
      " [ 0  1  1  0  8  0]\n",
      " [ 0  0  0  2  0  1]]\n"
     ]
    },
    {
     "data": {
      "text/plain": [
       "<matplotlib.axes._subplots.AxesSubplot at 0x27a54280c18>"
      ]
     },
     "execution_count": 31,
     "metadata": {},
     "output_type": "execute_result"
    },
    {
     "data": {
      "image/png": "[encoded data removed]",
      "text/plain": [
       "<Figure size 432x288 with 2 Axes>"
      ]
     },
     "metadata": {
      "needs_background": "light"
     },
     "output_type": "display_data"
    }
   ],
   "source": [
    "class_names=np.array(('iyan', 'efo', 'amala', 'eba', 'ewedu', 'fufu'))\n",
    "plot_confusion_matrix(y_test.argmax(axis=1), preds.argmax(axis=1), classes=class_names, title='Confusion Matrix')"
   ]
  },
  {
   "cell_type": "code",
   "execution_count": null,
   "metadata": {},
   "outputs": [],
   "source": []
  }
 ],
 "metadata": {
  "kernelspec": {
   "display_name": "Python 3",
   "language": "python",
   "name": "python3"
  },
  "language_info": {
   "codemirror_mode": {
    "name": "ipython",
    "version": 3
   },
   "file_extension": ".py",
   "mimetype": "text/x-python",
   "name": "python",
   "nbconvert_exporter": "python",
   "pygments_lexer": "ipython3",
   "version": "3.6.7"
  }
 },
 "nbformat": 4,
 "nbformat_minor": 2
}
